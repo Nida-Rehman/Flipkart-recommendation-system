{
  "nbformat": 4,
  "nbformat_minor": 0,
  "metadata": {
    "colab": {
      "provenance": []
    },
    "kernelspec": {
      "name": "python3",
      "display_name": "Python 3"
    },
    "language_info": {
      "name": "python"
    }
  },
  "cells": [
    {
      "cell_type": "code",
      "execution_count": null,
      "metadata": {
        "id": "BirpfcaYlkXC"
      },
      "outputs": [],
      "source": [
        "import numpy as np\n",
        "import pandas as pd\n",
        "import os\n",
        "import math\n",
        "import matplotlib.pyplot as plt\n",
        "import seaborn as sns\n",
        "import pandas as pd\n",
        "from sklearn.decomposition import NMF\n",
        "from sklearn.model_selection import train_test_split\n",
        "from sklearn.metrics import mean_squared_error"
      ]
    },
    {
      "cell_type": "code",
      "source": [
        "df=pd.read_csv(\"flipkart_product.csv\", encoding=\"unicode_escape\")\n",
        "df.head()"
      ],
      "metadata": {
        "colab": {
          "base_uri": "https://localhost:8080/",
          "height": 206
        },
        "id": "6RDWThxzlngp",
        "outputId": "f9a27577-8639-495c-f46d-a7bd3644ace5"
      },
      "execution_count": null,
      "outputs": [
        {
          "output_type": "execute_result",
          "data": {
            "text/plain": [
              "                                         ProductName     Price Rate  \\\n",
              "0  Candes 12 L Room/Personal Air Cooler?ÿ?ÿ(White...  ??3,999    5   \n",
              "1  Candes 12 L Room/Personal Air Cooler?ÿ?ÿ(White...  ??3,999    5   \n",
              "2  Candes 12 L Room/Personal Air Cooler?ÿ?ÿ(White...  ??3,999    3   \n",
              "3  Candes 12 L Room/Personal Air Cooler?ÿ?ÿ(White...  ??3,999    1   \n",
              "4  Candes 12 L Room/Personal Air Cooler?ÿ?ÿ(White...  ??3,999    3   \n",
              "\n",
              "            Review                                            Summary  \n",
              "0           Super!  Great cooler.. excellent air flow and for this...  \n",
              "1          Awesome             Best budget 2 fit cooler. Nice cooling  \n",
              "2             Fair  The quality is good but the power of air is de...  \n",
              "3  Useless product                 Very bad product it's a only a fan  \n",
              "4             Fair                                      Ok ok product  "
            ],
            "text/html": [
              "\n",
              "  <div id=\"df-b1907a14-8003-4815-a092-954bae5b6b28\" class=\"colab-df-container\">\n",
              "    <div>\n",
              "<style scoped>\n",
              "    .dataframe tbody tr th:only-of-type {\n",
              "        vertical-align: middle;\n",
              "    }\n",
              "\n",
              "    .dataframe tbody tr th {\n",
              "        vertical-align: top;\n",
              "    }\n",
              "\n",
              "    .dataframe thead th {\n",
              "        text-align: right;\n",
              "    }\n",
              "</style>\n",
              "<table border=\"1\" class=\"dataframe\">\n",
              "  <thead>\n",
              "    <tr style=\"text-align: right;\">\n",
              "      <th></th>\n",
              "      <th>ProductName</th>\n",
              "      <th>Price</th>\n",
              "      <th>Rate</th>\n",
              "      <th>Review</th>\n",
              "      <th>Summary</th>\n",
              "    </tr>\n",
              "  </thead>\n",
              "  <tbody>\n",
              "    <tr>\n",
              "      <th>0</th>\n",
              "      <td>Candes 12 L Room/Personal Air Cooler?ÿ?ÿ(White...</td>\n",
              "      <td>??3,999</td>\n",
              "      <td>5</td>\n",
              "      <td>Super!</td>\n",
              "      <td>Great cooler.. excellent air flow and for this...</td>\n",
              "    </tr>\n",
              "    <tr>\n",
              "      <th>1</th>\n",
              "      <td>Candes 12 L Room/Personal Air Cooler?ÿ?ÿ(White...</td>\n",
              "      <td>??3,999</td>\n",
              "      <td>5</td>\n",
              "      <td>Awesome</td>\n",
              "      <td>Best budget 2 fit cooler. Nice cooling</td>\n",
              "    </tr>\n",
              "    <tr>\n",
              "      <th>2</th>\n",
              "      <td>Candes 12 L Room/Personal Air Cooler?ÿ?ÿ(White...</td>\n",
              "      <td>??3,999</td>\n",
              "      <td>3</td>\n",
              "      <td>Fair</td>\n",
              "      <td>The quality is good but the power of air is de...</td>\n",
              "    </tr>\n",
              "    <tr>\n",
              "      <th>3</th>\n",
              "      <td>Candes 12 L Room/Personal Air Cooler?ÿ?ÿ(White...</td>\n",
              "      <td>??3,999</td>\n",
              "      <td>1</td>\n",
              "      <td>Useless product</td>\n",
              "      <td>Very bad product it's a only a fan</td>\n",
              "    </tr>\n",
              "    <tr>\n",
              "      <th>4</th>\n",
              "      <td>Candes 12 L Room/Personal Air Cooler?ÿ?ÿ(White...</td>\n",
              "      <td>??3,999</td>\n",
              "      <td>3</td>\n",
              "      <td>Fair</td>\n",
              "      <td>Ok ok product</td>\n",
              "    </tr>\n",
              "  </tbody>\n",
              "</table>\n",
              "</div>\n",
              "    <div class=\"colab-df-buttons\">\n",
              "\n",
              "  <div class=\"colab-df-container\">\n",
              "    <button class=\"colab-df-convert\" onclick=\"convertToInteractive('df-b1907a14-8003-4815-a092-954bae5b6b28')\"\n",
              "            title=\"Convert this dataframe to an interactive table.\"\n",
              "            style=\"display:none;\">\n",
              "\n",
              "  <svg xmlns=\"http://www.w3.org/2000/svg\" height=\"24px\" viewBox=\"0 -960 960 960\">\n",
              "    <path d=\"M120-120v-720h720v720H120Zm60-500h600v-160H180v160Zm220 220h160v-160H400v160Zm0 220h160v-160H400v160ZM180-400h160v-160H180v160Zm440 0h160v-160H620v160ZM180-180h160v-160H180v160Zm440 0h160v-160H620v160Z\"/>\n",
              "  </svg>\n",
              "    </button>\n",
              "\n",
              "  <style>\n",
              "    .colab-df-container {\n",
              "      display:flex;\n",
              "      gap: 12px;\n",
              "    }\n",
              "\n",
              "    .colab-df-convert {\n",
              "      background-color: #E8F0FE;\n",
              "      border: none;\n",
              "      border-radius: 50%;\n",
              "      cursor: pointer;\n",
              "      display: none;\n",
              "      fill: #1967D2;\n",
              "      height: 32px;\n",
              "      padding: 0 0 0 0;\n",
              "      width: 32px;\n",
              "    }\n",
              "\n",
              "    .colab-df-convert:hover {\n",
              "      background-color: #E2EBFA;\n",
              "      box-shadow: 0px 1px 2px rgba(60, 64, 67, 0.3), 0px 1px 3px 1px rgba(60, 64, 67, 0.15);\n",
              "      fill: #174EA6;\n",
              "    }\n",
              "\n",
              "    .colab-df-buttons div {\n",
              "      margin-bottom: 4px;\n",
              "    }\n",
              "\n",
              "    [theme=dark] .colab-df-convert {\n",
              "      background-color: #3B4455;\n",
              "      fill: #D2E3FC;\n",
              "    }\n",
              "\n",
              "    [theme=dark] .colab-df-convert:hover {\n",
              "      background-color: #434B5C;\n",
              "      box-shadow: 0px 1px 3px 1px rgba(0, 0, 0, 0.15);\n",
              "      filter: drop-shadow(0px 1px 2px rgba(0, 0, 0, 0.3));\n",
              "      fill: #FFFFFF;\n",
              "    }\n",
              "  </style>\n",
              "\n",
              "    <script>\n",
              "      const buttonEl =\n",
              "        document.querySelector('#df-b1907a14-8003-4815-a092-954bae5b6b28 button.colab-df-convert');\n",
              "      buttonEl.style.display =\n",
              "        google.colab.kernel.accessAllowed ? 'block' : 'none';\n",
              "\n",
              "      async function convertToInteractive(key) {\n",
              "        const element = document.querySelector('#df-b1907a14-8003-4815-a092-954bae5b6b28');\n",
              "        const dataTable =\n",
              "          await google.colab.kernel.invokeFunction('convertToInteractive',\n",
              "                                                    [key], {});\n",
              "        if (!dataTable) return;\n",
              "\n",
              "        const docLinkHtml = 'Like what you see? Visit the ' +\n",
              "          '<a target=\"_blank\" href=https://colab.research.google.com/notebooks/data_table.ipynb>data table notebook</a>'\n",
              "          + ' to learn more about interactive tables.';\n",
              "        element.innerHTML = '';\n",
              "        dataTable['output_type'] = 'display_data';\n",
              "        await google.colab.output.renderOutput(dataTable, element);\n",
              "        const docLink = document.createElement('div');\n",
              "        docLink.innerHTML = docLinkHtml;\n",
              "        element.appendChild(docLink);\n",
              "      }\n",
              "    </script>\n",
              "  </div>\n",
              "\n",
              "\n",
              "<div id=\"df-d5e76f96-33ff-4fa6-b3b7-a993998e1c10\">\n",
              "  <button class=\"colab-df-quickchart\" onclick=\"quickchart('df-d5e76f96-33ff-4fa6-b3b7-a993998e1c10')\"\n",
              "            title=\"Suggest charts\"\n",
              "            style=\"display:none;\">\n",
              "\n",
              "<svg xmlns=\"http://www.w3.org/2000/svg\" height=\"24px\"viewBox=\"0 0 24 24\"\n",
              "     width=\"24px\">\n",
              "    <g>\n",
              "        <path d=\"M19 3H5c-1.1 0-2 .9-2 2v14c0 1.1.9 2 2 2h14c1.1 0 2-.9 2-2V5c0-1.1-.9-2-2-2zM9 17H7v-7h2v7zm4 0h-2V7h2v10zm4 0h-2v-4h2v4z\"/>\n",
              "    </g>\n",
              "</svg>\n",
              "  </button>\n",
              "\n",
              "<style>\n",
              "  .colab-df-quickchart {\n",
              "      --bg-color: #E8F0FE;\n",
              "      --fill-color: #1967D2;\n",
              "      --hover-bg-color: #E2EBFA;\n",
              "      --hover-fill-color: #174EA6;\n",
              "      --disabled-fill-color: #AAA;\n",
              "      --disabled-bg-color: #DDD;\n",
              "  }\n",
              "\n",
              "  [theme=dark] .colab-df-quickchart {\n",
              "      --bg-color: #3B4455;\n",
              "      --fill-color: #D2E3FC;\n",
              "      --hover-bg-color: #434B5C;\n",
              "      --hover-fill-color: #FFFFFF;\n",
              "      --disabled-bg-color: #3B4455;\n",
              "      --disabled-fill-color: #666;\n",
              "  }\n",
              "\n",
              "  .colab-df-quickchart {\n",
              "    background-color: var(--bg-color);\n",
              "    border: none;\n",
              "    border-radius: 50%;\n",
              "    cursor: pointer;\n",
              "    display: none;\n",
              "    fill: var(--fill-color);\n",
              "    height: 32px;\n",
              "    padding: 0;\n",
              "    width: 32px;\n",
              "  }\n",
              "\n",
              "  .colab-df-quickchart:hover {\n",
              "    background-color: var(--hover-bg-color);\n",
              "    box-shadow: 0 1px 2px rgba(60, 64, 67, 0.3), 0 1px 3px 1px rgba(60, 64, 67, 0.15);\n",
              "    fill: var(--button-hover-fill-color);\n",
              "  }\n",
              "\n",
              "  .colab-df-quickchart-complete:disabled,\n",
              "  .colab-df-quickchart-complete:disabled:hover {\n",
              "    background-color: var(--disabled-bg-color);\n",
              "    fill: var(--disabled-fill-color);\n",
              "    box-shadow: none;\n",
              "  }\n",
              "\n",
              "  .colab-df-spinner {\n",
              "    border: 2px solid var(--fill-color);\n",
              "    border-color: transparent;\n",
              "    border-bottom-color: var(--fill-color);\n",
              "    animation:\n",
              "      spin 1s steps(1) infinite;\n",
              "  }\n",
              "\n",
              "  @keyframes spin {\n",
              "    0% {\n",
              "      border-color: transparent;\n",
              "      border-bottom-color: var(--fill-color);\n",
              "      border-left-color: var(--fill-color);\n",
              "    }\n",
              "    20% {\n",
              "      border-color: transparent;\n",
              "      border-left-color: var(--fill-color);\n",
              "      border-top-color: var(--fill-color);\n",
              "    }\n",
              "    30% {\n",
              "      border-color: transparent;\n",
              "      border-left-color: var(--fill-color);\n",
              "      border-top-color: var(--fill-color);\n",
              "      border-right-color: var(--fill-color);\n",
              "    }\n",
              "    40% {\n",
              "      border-color: transparent;\n",
              "      border-right-color: var(--fill-color);\n",
              "      border-top-color: var(--fill-color);\n",
              "    }\n",
              "    60% {\n",
              "      border-color: transparent;\n",
              "      border-right-color: var(--fill-color);\n",
              "    }\n",
              "    80% {\n",
              "      border-color: transparent;\n",
              "      border-right-color: var(--fill-color);\n",
              "      border-bottom-color: var(--fill-color);\n",
              "    }\n",
              "    90% {\n",
              "      border-color: transparent;\n",
              "      border-bottom-color: var(--fill-color);\n",
              "    }\n",
              "  }\n",
              "</style>\n",
              "\n",
              "  <script>\n",
              "    async function quickchart(key) {\n",
              "      const quickchartButtonEl =\n",
              "        document.querySelector('#' + key + ' button');\n",
              "      quickchartButtonEl.disabled = true;  // To prevent multiple clicks.\n",
              "      quickchartButtonEl.classList.add('colab-df-spinner');\n",
              "      try {\n",
              "        const charts = await google.colab.kernel.invokeFunction(\n",
              "            'suggestCharts', [key], {});\n",
              "      } catch (error) {\n",
              "        console.error('Error during call to suggestCharts:', error);\n",
              "      }\n",
              "      quickchartButtonEl.classList.remove('colab-df-spinner');\n",
              "      quickchartButtonEl.classList.add('colab-df-quickchart-complete');\n",
              "    }\n",
              "    (() => {\n",
              "      let quickchartButtonEl =\n",
              "        document.querySelector('#df-d5e76f96-33ff-4fa6-b3b7-a993998e1c10 button');\n",
              "      quickchartButtonEl.style.display =\n",
              "        google.colab.kernel.accessAllowed ? 'block' : 'none';\n",
              "    })();\n",
              "  </script>\n",
              "</div>\n",
              "\n",
              "    </div>\n",
              "  </div>\n"
            ],
            "application/vnd.google.colaboratory.intrinsic+json": {
              "type": "dataframe",
              "variable_name": "df",
              "summary": "{\n  \"name\": \"df\",\n  \"rows\": 52943,\n  \"fields\": [\n    {\n      \"column\": \"ProductName\",\n      \"properties\": {\n        \"dtype\": \"category\",\n        \"num_unique_values\": 246,\n        \"samples\": [\n          \"Hindware Nevio Plus 60  Auto Clean Wall Mounted Chimney?\\u00ff?\\u00ff(Black 1400 CMH)\",\n          \"S . K Store Carbon Steel Collapsible Wardrobe\\u00c2\\u00a0\\u00c2\\u00a0(Finish Color - Black, DIY(Do-It-Yourself))\",\n          \"Butterfly Rapid Kettle 1.5 Litre + Eco 750 Ml Water Bottle\"\n        ],\n        \"semantic_type\": \"\",\n        \"description\": \"\"\n      }\n    },\n    {\n      \"column\": \"Price\",\n      \"properties\": {\n        \"dtype\": \"category\",\n        \"num_unique_values\": 180,\n        \"samples\": [\n          \"\\u00e2\\u0082\\u00b9901\",\n          \"\\u00e2\\u0082\\u00b9199\",\n          \"\\u00e2\\u0082\\u00b9268\"\n        ],\n        \"semantic_type\": \"\",\n        \"description\": \"\"\n      }\n    },\n    {\n      \"column\": \"Rate\",\n      \"properties\": {\n        \"dtype\": \"category\",\n        \"num_unique_values\": 6,\n        \"samples\": [\n          \"5\",\n          \"3\",\n          \"Pigeon Favourite Electric Kettle?\\u00ff?\\u00ff(1.5 L, Silver, Black)\"\n        ],\n        \"semantic_type\": \"\",\n        \"description\": \"\"\n      }\n    },\n    {\n      \"column\": \"Review\",\n      \"properties\": {\n        \"dtype\": \"category\",\n        \"num_unique_values\": 237,\n        \"samples\": [\n          \"Very useful\",\n          \"Just wow!\",\n          \"Go for it.\"\n        ],\n        \"semantic_type\": \"\",\n        \"description\": \"\"\n      }\n    },\n    {\n      \"column\": \"Summary\",\n      \"properties\": {\n        \"dtype\": \"string\",\n        \"num_unique_values\": 27561,\n        \"samples\": [\n          \"Very nice product for the worth. But they have provided plastic pipe instead of aluminium pipe.  Next the flipkart is not sending their flipkart installation persons and they are engaged local mechanics who are working in local as electricians as well as plumbers. Except that everything is fine. Thanks for the flipkart.\",\n          \"superb bat\",\n          \"This product is not proper quality\"\n        ],\n        \"semantic_type\": \"\",\n        \"description\": \"\"\n      }\n    }\n  ]\n}"
            }
          },
          "metadata": {},
          "execution_count": 10
        }
      ]
    },
    {
      "cell_type": "code",
      "source": [
        "def clean_and_convert_to_numeric(price_str):\n",
        "    if isinstance(price_str, str):  # Check if the input is a string\n",
        "        # Remove special characters regular expression\n",
        "        cleaned_str = ''.join(e for e in price_str if e.isalnum() or e in ('.', '-'))\n",
        "\n",
        "        # Convert the cleaned string to numeric\n",
        "        try:\n",
        "            numeric_value = float(cleaned_str)\n",
        "            return numeric_value\n",
        "        except ValueError:\n",
        "            return None  # Return None for values that couldn't be converted to numeric\n",
        "    else:\n",
        "        return price_str  # Return the input unchanged if it's already numeric\n",
        "\n",
        "# Apply the function to the \"Price\" column to clean and convert it\n",
        "df['Price'] = df['Price'].apply(clean_and_convert_to_numeric)\n",
        "\n",
        "df.head()"
      ],
      "metadata": {
        "colab": {
          "base_uri": "https://localhost:8080/",
          "height": 206
        },
        "id": "Ff9D3nsvlrMl",
        "outputId": "6e92c6b2-be5e-43c1-8f28-e390206760b3"
      },
      "execution_count": null,
      "outputs": [
        {
          "output_type": "execute_result",
          "data": {
            "text/plain": [
              "                                         ProductName   Price Rate  \\\n",
              "0  Candes 12 L Room/Personal Air Cooler?ÿ?ÿ(White...  3999.0    5   \n",
              "1  Candes 12 L Room/Personal Air Cooler?ÿ?ÿ(White...  3999.0    5   \n",
              "2  Candes 12 L Room/Personal Air Cooler?ÿ?ÿ(White...  3999.0    3   \n",
              "3  Candes 12 L Room/Personal Air Cooler?ÿ?ÿ(White...  3999.0    1   \n",
              "4  Candes 12 L Room/Personal Air Cooler?ÿ?ÿ(White...  3999.0    3   \n",
              "\n",
              "            Review                                            Summary  \n",
              "0           Super!  Great cooler.. excellent air flow and for this...  \n",
              "1          Awesome             Best budget 2 fit cooler. Nice cooling  \n",
              "2             Fair  The quality is good but the power of air is de...  \n",
              "3  Useless product                 Very bad product it's a only a fan  \n",
              "4             Fair                                      Ok ok product  "
            ],
            "text/html": [
              "\n",
              "  <div id=\"df-25418297-5a2d-4bd5-87c3-b1a763a8e2d4\" class=\"colab-df-container\">\n",
              "    <div>\n",
              "<style scoped>\n",
              "    .dataframe tbody tr th:only-of-type {\n",
              "        vertical-align: middle;\n",
              "    }\n",
              "\n",
              "    .dataframe tbody tr th {\n",
              "        vertical-align: top;\n",
              "    }\n",
              "\n",
              "    .dataframe thead th {\n",
              "        text-align: right;\n",
              "    }\n",
              "</style>\n",
              "<table border=\"1\" class=\"dataframe\">\n",
              "  <thead>\n",
              "    <tr style=\"text-align: right;\">\n",
              "      <th></th>\n",
              "      <th>ProductName</th>\n",
              "      <th>Price</th>\n",
              "      <th>Rate</th>\n",
              "      <th>Review</th>\n",
              "      <th>Summary</th>\n",
              "    </tr>\n",
              "  </thead>\n",
              "  <tbody>\n",
              "    <tr>\n",
              "      <th>0</th>\n",
              "      <td>Candes 12 L Room/Personal Air Cooler?ÿ?ÿ(White...</td>\n",
              "      <td>3999.0</td>\n",
              "      <td>5</td>\n",
              "      <td>Super!</td>\n",
              "      <td>Great cooler.. excellent air flow and for this...</td>\n",
              "    </tr>\n",
              "    <tr>\n",
              "      <th>1</th>\n",
              "      <td>Candes 12 L Room/Personal Air Cooler?ÿ?ÿ(White...</td>\n",
              "      <td>3999.0</td>\n",
              "      <td>5</td>\n",
              "      <td>Awesome</td>\n",
              "      <td>Best budget 2 fit cooler. Nice cooling</td>\n",
              "    </tr>\n",
              "    <tr>\n",
              "      <th>2</th>\n",
              "      <td>Candes 12 L Room/Personal Air Cooler?ÿ?ÿ(White...</td>\n",
              "      <td>3999.0</td>\n",
              "      <td>3</td>\n",
              "      <td>Fair</td>\n",
              "      <td>The quality is good but the power of air is de...</td>\n",
              "    </tr>\n",
              "    <tr>\n",
              "      <th>3</th>\n",
              "      <td>Candes 12 L Room/Personal Air Cooler?ÿ?ÿ(White...</td>\n",
              "      <td>3999.0</td>\n",
              "      <td>1</td>\n",
              "      <td>Useless product</td>\n",
              "      <td>Very bad product it's a only a fan</td>\n",
              "    </tr>\n",
              "    <tr>\n",
              "      <th>4</th>\n",
              "      <td>Candes 12 L Room/Personal Air Cooler?ÿ?ÿ(White...</td>\n",
              "      <td>3999.0</td>\n",
              "      <td>3</td>\n",
              "      <td>Fair</td>\n",
              "      <td>Ok ok product</td>\n",
              "    </tr>\n",
              "  </tbody>\n",
              "</table>\n",
              "</div>\n",
              "    <div class=\"colab-df-buttons\">\n",
              "\n",
              "  <div class=\"colab-df-container\">\n",
              "    <button class=\"colab-df-convert\" onclick=\"convertToInteractive('df-25418297-5a2d-4bd5-87c3-b1a763a8e2d4')\"\n",
              "            title=\"Convert this dataframe to an interactive table.\"\n",
              "            style=\"display:none;\">\n",
              "\n",
              "  <svg xmlns=\"http://www.w3.org/2000/svg\" height=\"24px\" viewBox=\"0 -960 960 960\">\n",
              "    <path d=\"M120-120v-720h720v720H120Zm60-500h600v-160H180v160Zm220 220h160v-160H400v160Zm0 220h160v-160H400v160ZM180-400h160v-160H180v160Zm440 0h160v-160H620v160ZM180-180h160v-160H180v160Zm440 0h160v-160H620v160Z\"/>\n",
              "  </svg>\n",
              "    </button>\n",
              "\n",
              "  <style>\n",
              "    .colab-df-container {\n",
              "      display:flex;\n",
              "      gap: 12px;\n",
              "    }\n",
              "\n",
              "    .colab-df-convert {\n",
              "      background-color: #E8F0FE;\n",
              "      border: none;\n",
              "      border-radius: 50%;\n",
              "      cursor: pointer;\n",
              "      display: none;\n",
              "      fill: #1967D2;\n",
              "      height: 32px;\n",
              "      padding: 0 0 0 0;\n",
              "      width: 32px;\n",
              "    }\n",
              "\n",
              "    .colab-df-convert:hover {\n",
              "      background-color: #E2EBFA;\n",
              "      box-shadow: 0px 1px 2px rgba(60, 64, 67, 0.3), 0px 1px 3px 1px rgba(60, 64, 67, 0.15);\n",
              "      fill: #174EA6;\n",
              "    }\n",
              "\n",
              "    .colab-df-buttons div {\n",
              "      margin-bottom: 4px;\n",
              "    }\n",
              "\n",
              "    [theme=dark] .colab-df-convert {\n",
              "      background-color: #3B4455;\n",
              "      fill: #D2E3FC;\n",
              "    }\n",
              "\n",
              "    [theme=dark] .colab-df-convert:hover {\n",
              "      background-color: #434B5C;\n",
              "      box-shadow: 0px 1px 3px 1px rgba(0, 0, 0, 0.15);\n",
              "      filter: drop-shadow(0px 1px 2px rgba(0, 0, 0, 0.3));\n",
              "      fill: #FFFFFF;\n",
              "    }\n",
              "  </style>\n",
              "\n",
              "    <script>\n",
              "      const buttonEl =\n",
              "        document.querySelector('#df-25418297-5a2d-4bd5-87c3-b1a763a8e2d4 button.colab-df-convert');\n",
              "      buttonEl.style.display =\n",
              "        google.colab.kernel.accessAllowed ? 'block' : 'none';\n",
              "\n",
              "      async function convertToInteractive(key) {\n",
              "        const element = document.querySelector('#df-25418297-5a2d-4bd5-87c3-b1a763a8e2d4');\n",
              "        const dataTable =\n",
              "          await google.colab.kernel.invokeFunction('convertToInteractive',\n",
              "                                                    [key], {});\n",
              "        if (!dataTable) return;\n",
              "\n",
              "        const docLinkHtml = 'Like what you see? Visit the ' +\n",
              "          '<a target=\"_blank\" href=https://colab.research.google.com/notebooks/data_table.ipynb>data table notebook</a>'\n",
              "          + ' to learn more about interactive tables.';\n",
              "        element.innerHTML = '';\n",
              "        dataTable['output_type'] = 'display_data';\n",
              "        await google.colab.output.renderOutput(dataTable, element);\n",
              "        const docLink = document.createElement('div');\n",
              "        docLink.innerHTML = docLinkHtml;\n",
              "        element.appendChild(docLink);\n",
              "      }\n",
              "    </script>\n",
              "  </div>\n",
              "\n",
              "\n",
              "<div id=\"df-50743004-6c1f-427d-8913-07afb1e543c1\">\n",
              "  <button class=\"colab-df-quickchart\" onclick=\"quickchart('df-50743004-6c1f-427d-8913-07afb1e543c1')\"\n",
              "            title=\"Suggest charts\"\n",
              "            style=\"display:none;\">\n",
              "\n",
              "<svg xmlns=\"http://www.w3.org/2000/svg\" height=\"24px\"viewBox=\"0 0 24 24\"\n",
              "     width=\"24px\">\n",
              "    <g>\n",
              "        <path d=\"M19 3H5c-1.1 0-2 .9-2 2v14c0 1.1.9 2 2 2h14c1.1 0 2-.9 2-2V5c0-1.1-.9-2-2-2zM9 17H7v-7h2v7zm4 0h-2V7h2v10zm4 0h-2v-4h2v4z\"/>\n",
              "    </g>\n",
              "</svg>\n",
              "  </button>\n",
              "\n",
              "<style>\n",
              "  .colab-df-quickchart {\n",
              "      --bg-color: #E8F0FE;\n",
              "      --fill-color: #1967D2;\n",
              "      --hover-bg-color: #E2EBFA;\n",
              "      --hover-fill-color: #174EA6;\n",
              "      --disabled-fill-color: #AAA;\n",
              "      --disabled-bg-color: #DDD;\n",
              "  }\n",
              "\n",
              "  [theme=dark] .colab-df-quickchart {\n",
              "      --bg-color: #3B4455;\n",
              "      --fill-color: #D2E3FC;\n",
              "      --hover-bg-color: #434B5C;\n",
              "      --hover-fill-color: #FFFFFF;\n",
              "      --disabled-bg-color: #3B4455;\n",
              "      --disabled-fill-color: #666;\n",
              "  }\n",
              "\n",
              "  .colab-df-quickchart {\n",
              "    background-color: var(--bg-color);\n",
              "    border: none;\n",
              "    border-radius: 50%;\n",
              "    cursor: pointer;\n",
              "    display: none;\n",
              "    fill: var(--fill-color);\n",
              "    height: 32px;\n",
              "    padding: 0;\n",
              "    width: 32px;\n",
              "  }\n",
              "\n",
              "  .colab-df-quickchart:hover {\n",
              "    background-color: var(--hover-bg-color);\n",
              "    box-shadow: 0 1px 2px rgba(60, 64, 67, 0.3), 0 1px 3px 1px rgba(60, 64, 67, 0.15);\n",
              "    fill: var(--button-hover-fill-color);\n",
              "  }\n",
              "\n",
              "  .colab-df-quickchart-complete:disabled,\n",
              "  .colab-df-quickchart-complete:disabled:hover {\n",
              "    background-color: var(--disabled-bg-color);\n",
              "    fill: var(--disabled-fill-color);\n",
              "    box-shadow: none;\n",
              "  }\n",
              "\n",
              "  .colab-df-spinner {\n",
              "    border: 2px solid var(--fill-color);\n",
              "    border-color: transparent;\n",
              "    border-bottom-color: var(--fill-color);\n",
              "    animation:\n",
              "      spin 1s steps(1) infinite;\n",
              "  }\n",
              "\n",
              "  @keyframes spin {\n",
              "    0% {\n",
              "      border-color: transparent;\n",
              "      border-bottom-color: var(--fill-color);\n",
              "      border-left-color: var(--fill-color);\n",
              "    }\n",
              "    20% {\n",
              "      border-color: transparent;\n",
              "      border-left-color: var(--fill-color);\n",
              "      border-top-color: var(--fill-color);\n",
              "    }\n",
              "    30% {\n",
              "      border-color: transparent;\n",
              "      border-left-color: var(--fill-color);\n",
              "      border-top-color: var(--fill-color);\n",
              "      border-right-color: var(--fill-color);\n",
              "    }\n",
              "    40% {\n",
              "      border-color: transparent;\n",
              "      border-right-color: var(--fill-color);\n",
              "      border-top-color: var(--fill-color);\n",
              "    }\n",
              "    60% {\n",
              "      border-color: transparent;\n",
              "      border-right-color: var(--fill-color);\n",
              "    }\n",
              "    80% {\n",
              "      border-color: transparent;\n",
              "      border-right-color: var(--fill-color);\n",
              "      border-bottom-color: var(--fill-color);\n",
              "    }\n",
              "    90% {\n",
              "      border-color: transparent;\n",
              "      border-bottom-color: var(--fill-color);\n",
              "    }\n",
              "  }\n",
              "</style>\n",
              "\n",
              "  <script>\n",
              "    async function quickchart(key) {\n",
              "      const quickchartButtonEl =\n",
              "        document.querySelector('#' + key + ' button');\n",
              "      quickchartButtonEl.disabled = true;  // To prevent multiple clicks.\n",
              "      quickchartButtonEl.classList.add('colab-df-spinner');\n",
              "      try {\n",
              "        const charts = await google.colab.kernel.invokeFunction(\n",
              "            'suggestCharts', [key], {});\n",
              "      } catch (error) {\n",
              "        console.error('Error during call to suggestCharts:', error);\n",
              "      }\n",
              "      quickchartButtonEl.classList.remove('colab-df-spinner');\n",
              "      quickchartButtonEl.classList.add('colab-df-quickchart-complete');\n",
              "    }\n",
              "    (() => {\n",
              "      let quickchartButtonEl =\n",
              "        document.querySelector('#df-50743004-6c1f-427d-8913-07afb1e543c1 button');\n",
              "      quickchartButtonEl.style.display =\n",
              "        google.colab.kernel.accessAllowed ? 'block' : 'none';\n",
              "    })();\n",
              "  </script>\n",
              "</div>\n",
              "\n",
              "    </div>\n",
              "  </div>\n"
            ],
            "application/vnd.google.colaboratory.intrinsic+json": {
              "type": "dataframe",
              "variable_name": "df",
              "summary": "{\n  \"name\": \"df\",\n  \"rows\": 52943,\n  \"fields\": [\n    {\n      \"column\": \"ProductName\",\n      \"properties\": {\n        \"dtype\": \"category\",\n        \"num_unique_values\": 246,\n        \"samples\": [\n          \"Hindware Nevio Plus 60  Auto Clean Wall Mounted Chimney?\\u00ff?\\u00ff(Black 1400 CMH)\",\n          \"S . K Store Carbon Steel Collapsible Wardrobe\\u00c2\\u00a0\\u00c2\\u00a0(Finish Color - Black, DIY(Do-It-Yourself))\",\n          \"Butterfly Rapid Kettle 1.5 Litre + Eco 750 Ml Water Bottle\"\n        ],\n        \"semantic_type\": \"\",\n        \"description\": \"\"\n      }\n    },\n    {\n      \"column\": \"Price\",\n      \"properties\": {\n        \"dtype\": \"number\",\n        \"std\": 12220.393843371647,\n        \"min\": 195.0,\n        \"max\": 52990.0,\n        \"num_unique_values\": 55,\n        \"samples\": [\n          205.0,\n          9990.0,\n          1256.0\n        ],\n        \"semantic_type\": \"\",\n        \"description\": \"\"\n      }\n    },\n    {\n      \"column\": \"Rate\",\n      \"properties\": {\n        \"dtype\": \"category\",\n        \"num_unique_values\": 6,\n        \"samples\": [\n          \"5\",\n          \"3\",\n          \"Pigeon Favourite Electric Kettle?\\u00ff?\\u00ff(1.5 L, Silver, Black)\"\n        ],\n        \"semantic_type\": \"\",\n        \"description\": \"\"\n      }\n    },\n    {\n      \"column\": \"Review\",\n      \"properties\": {\n        \"dtype\": \"category\",\n        \"num_unique_values\": 237,\n        \"samples\": [\n          \"Very useful\",\n          \"Just wow!\",\n          \"Go for it.\"\n        ],\n        \"semantic_type\": \"\",\n        \"description\": \"\"\n      }\n    },\n    {\n      \"column\": \"Summary\",\n      \"properties\": {\n        \"dtype\": \"string\",\n        \"num_unique_values\": 27561,\n        \"samples\": [\n          \"Very nice product for the worth. But they have provided plastic pipe instead of aluminium pipe.  Next the flipkart is not sending their flipkart installation persons and they are engaged local mechanics who are working in local as electricians as well as plumbers. Except that everything is fine. Thanks for the flipkart.\",\n          \"superb bat\",\n          \"This product is not proper quality\"\n        ],\n        \"semantic_type\": \"\",\n        \"description\": \"\"\n      }\n    }\n  ]\n}"
            }
          },
          "metadata": {},
          "execution_count": 11
        }
      ]
    },
    {
      "cell_type": "code",
      "source": [
        "num_rows, num_columns = df.shape\n",
        "print(f'Total number of rows: {num_rows}')\n",
        "print(f'Total number of columns: {num_columns}')"
      ],
      "metadata": {
        "colab": {
          "base_uri": "https://localhost:8080/"
        },
        "id": "gH4f_pcKmUZu",
        "outputId": "f1b85a22-ad5f-43e1-9311-ae548e653f86"
      },
      "execution_count": null,
      "outputs": [
        {
          "output_type": "stream",
          "name": "stdout",
          "text": [
            "Total number of rows: 52943\n",
            "Total number of columns: 5\n"
          ]
        }
      ]
    },
    {
      "cell_type": "code",
      "source": [
        "#Drop null rows\n",
        "df.dropna(inplace=True)"
      ],
      "metadata": {
        "id": "P7EamiPFosmE"
      },
      "execution_count": null,
      "outputs": []
    },
    {
      "cell_type": "code",
      "source": [
        "#Display rows after dropping null rows\n",
        "total_rows = df.shape[0]\n",
        "print(f'Total number of rows after dropping null values: {total_rows}')"
      ],
      "metadata": {
        "colab": {
          "base_uri": "https://localhost:8080/"
        },
        "id": "GfXWcuSEowP_",
        "outputId": "49609cbf-fc68-427e-ba5a-323018a249dd"
      },
      "execution_count": null,
      "outputs": [
        {
          "output_type": "stream",
          "name": "stdout",
          "text": [
            "Total number of rows after dropping null values: 10400\n"
          ]
        }
      ]
    },
    {
      "cell_type": "code",
      "source": [
        "# Making sure the columns contain string value\n",
        "df['Review'] = df['Review'].apply(lambda x: str(x) if not isinstance(x, str) else x)\n",
        "df['Summary'] = df['Summary'].apply(lambda x: str(x) if not isinstance(x, str) else x)"
      ],
      "metadata": {
        "id": "-sUl81ygo1VG"
      },
      "execution_count": null,
      "outputs": []
    },
    {
      "cell_type": "code",
      "source": [
        "#using the TextBlob library to analyse sentiments\n",
        "from textblob import TextBlob\n",
        "\n",
        "def get_sentiment(text):\n",
        "    analysis = TextBlob(text)\n",
        "    return analysis.sentiment.polarity\n",
        "\n",
        "df['ReviewSentiment'] = df['Review'].apply(get_sentiment)\n",
        "df['SummarySentiment'] = df['Summary'].apply(get_sentiment)"
      ],
      "metadata": {
        "id": "2I96_ODGo6BF"
      },
      "execution_count": null,
      "outputs": []
    },
    {
      "cell_type": "code",
      "source": [
        "#Combining sentiments scores from review and summary\n",
        "df['CombinedSentiment'] = (df['ReviewSentiment'] + df['SummarySentiment']) / 2"
      ],
      "metadata": {
        "id": "zTPYx9o-o9JQ"
      },
      "execution_count": null,
      "outputs": []
    },
    {
      "cell_type": "code",
      "source": [
        "print(df.head())"
      ],
      "metadata": {
        "colab": {
          "base_uri": "https://localhost:8080/"
        },
        "id": "Y_K7JWfQpAaB",
        "outputId": "9f3002d7-66ce-4ce6-8586-80a7d7809ad3"
      },
      "execution_count": null,
      "outputs": [
        {
          "output_type": "stream",
          "name": "stdout",
          "text": [
            "                                         ProductName   Price Rate  \\\n",
            "0  Candes 12 L Room/Personal Air Cooler?ÿ?ÿ(White...  3999.0    5   \n",
            "1  Candes 12 L Room/Personal Air Cooler?ÿ?ÿ(White...  3999.0    5   \n",
            "2  Candes 12 L Room/Personal Air Cooler?ÿ?ÿ(White...  3999.0    3   \n",
            "3  Candes 12 L Room/Personal Air Cooler?ÿ?ÿ(White...  3999.0    1   \n",
            "4  Candes 12 L Room/Personal Air Cooler?ÿ?ÿ(White...  3999.0    3   \n",
            "\n",
            "            Review                                            Summary  \\\n",
            "0           Super!  Great cooler.. excellent air flow and for this...   \n",
            "1          Awesome             Best budget 2 fit cooler. Nice cooling   \n",
            "2             Fair  The quality is good but the power of air is de...   \n",
            "3  Useless product                 Very bad product it's a only a fan   \n",
            "4             Fair                                      Ok ok product   \n",
            "\n",
            "   ReviewSentiment  SummarySentiment  CombinedSentiment  \n",
            "0         0.416667          0.725000           0.570833  \n",
            "1         1.000000          0.666667           0.833333  \n",
            "2         0.700000          0.433333           0.566667  \n",
            "3        -0.500000         -0.455000          -0.477500  \n",
            "4         0.700000          0.500000           0.600000  \n"
          ]
        }
      ]
    },
    {
      "cell_type": "code",
      "source": [
        "df['SentimentScore'] = df['CombinedSentiment']\n",
        "print(df.head())"
      ],
      "metadata": {
        "colab": {
          "base_uri": "https://localhost:8080/"
        },
        "id": "AgzbyDScpC1v",
        "outputId": "8a31cb23-ecc0-4b49-9911-07e32f4ef397"
      },
      "execution_count": null,
      "outputs": [
        {
          "output_type": "stream",
          "name": "stdout",
          "text": [
            "                                         ProductName   Price Rate  \\\n",
            "0  Candes 12 L Room/Personal Air Cooler?ÿ?ÿ(White...  3999.0    5   \n",
            "1  Candes 12 L Room/Personal Air Cooler?ÿ?ÿ(White...  3999.0    5   \n",
            "2  Candes 12 L Room/Personal Air Cooler?ÿ?ÿ(White...  3999.0    3   \n",
            "3  Candes 12 L Room/Personal Air Cooler?ÿ?ÿ(White...  3999.0    1   \n",
            "4  Candes 12 L Room/Personal Air Cooler?ÿ?ÿ(White...  3999.0    3   \n",
            "\n",
            "            Review                                            Summary  \\\n",
            "0           Super!  Great cooler.. excellent air flow and for this...   \n",
            "1          Awesome             Best budget 2 fit cooler. Nice cooling   \n",
            "2             Fair  The quality is good but the power of air is de...   \n",
            "3  Useless product                 Very bad product it's a only a fan   \n",
            "4             Fair                                      Ok ok product   \n",
            "\n",
            "   ReviewSentiment  SummarySentiment  CombinedSentiment  SentimentScore  \n",
            "0         0.416667          0.725000           0.570833        0.570833  \n",
            "1         1.000000          0.666667           0.833333        0.833333  \n",
            "2         0.700000          0.433333           0.566667        0.566667  \n",
            "3        -0.500000         -0.455000          -0.477500       -0.477500  \n",
            "4         0.700000          0.500000           0.600000        0.600000  \n"
          ]
        }
      ]
    },
    {
      "cell_type": "code",
      "source": [
        "df = df.drop(['ReviewSentiment', 'SummarySentiment','CombinedSentiment' ], axis=1)"
      ],
      "metadata": {
        "id": "JsEVVnGnpGMi"
      },
      "execution_count": null,
      "outputs": []
    },
    {
      "cell_type": "code",
      "source": [
        "df.head()\n"
      ],
      "metadata": {
        "colab": {
          "base_uri": "https://localhost:8080/",
          "height": 397
        },
        "id": "9DC4xiffpJmk",
        "outputId": "67f6a15e-6090-49e1-f0dd-22f78debb17e"
      },
      "execution_count": null,
      "outputs": [
        {
          "output_type": "execute_result",
          "data": {
            "text/plain": [
              "                                         ProductName   Price Rate  \\\n",
              "0  Candes 12 L Room/Personal Air Cooler?ÿ?ÿ(White...  3999.0    5   \n",
              "1  Candes 12 L Room/Personal Air Cooler?ÿ?ÿ(White...  3999.0    5   \n",
              "2  Candes 12 L Room/Personal Air Cooler?ÿ?ÿ(White...  3999.0    3   \n",
              "3  Candes 12 L Room/Personal Air Cooler?ÿ?ÿ(White...  3999.0    1   \n",
              "4  Candes 12 L Room/Personal Air Cooler?ÿ?ÿ(White...  3999.0    3   \n",
              "\n",
              "            Review                                            Summary  \\\n",
              "0           Super!  Great cooler.. excellent air flow and for this...   \n",
              "1          Awesome             Best budget 2 fit cooler. Nice cooling   \n",
              "2             Fair  The quality is good but the power of air is de...   \n",
              "3  Useless product                 Very bad product it's a only a fan   \n",
              "4             Fair                                      Ok ok product   \n",
              "\n",
              "   SentimentScore  \n",
              "0        0.570833  \n",
              "1        0.833333  \n",
              "2        0.566667  \n",
              "3       -0.477500  \n",
              "4        0.600000  "
            ],
            "text/html": [
              "\n",
              "  <div id=\"df-af980e80-c4ad-4bb8-81fd-2cd12085d532\" class=\"colab-df-container\">\n",
              "    <div>\n",
              "<style scoped>\n",
              "    .dataframe tbody tr th:only-of-type {\n",
              "        vertical-align: middle;\n",
              "    }\n",
              "\n",
              "    .dataframe tbody tr th {\n",
              "        vertical-align: top;\n",
              "    }\n",
              "\n",
              "    .dataframe thead th {\n",
              "        text-align: right;\n",
              "    }\n",
              "</style>\n",
              "<table border=\"1\" class=\"dataframe\">\n",
              "  <thead>\n",
              "    <tr style=\"text-align: right;\">\n",
              "      <th></th>\n",
              "      <th>ProductName</th>\n",
              "      <th>Price</th>\n",
              "      <th>Rate</th>\n",
              "      <th>Review</th>\n",
              "      <th>Summary</th>\n",
              "      <th>SentimentScore</th>\n",
              "    </tr>\n",
              "  </thead>\n",
              "  <tbody>\n",
              "    <tr>\n",
              "      <th>0</th>\n",
              "      <td>Candes 12 L Room/Personal Air Cooler?ÿ?ÿ(White...</td>\n",
              "      <td>3999.0</td>\n",
              "      <td>5</td>\n",
              "      <td>Super!</td>\n",
              "      <td>Great cooler.. excellent air flow and for this...</td>\n",
              "      <td>0.570833</td>\n",
              "    </tr>\n",
              "    <tr>\n",
              "      <th>1</th>\n",
              "      <td>Candes 12 L Room/Personal Air Cooler?ÿ?ÿ(White...</td>\n",
              "      <td>3999.0</td>\n",
              "      <td>5</td>\n",
              "      <td>Awesome</td>\n",
              "      <td>Best budget 2 fit cooler. Nice cooling</td>\n",
              "      <td>0.833333</td>\n",
              "    </tr>\n",
              "    <tr>\n",
              "      <th>2</th>\n",
              "      <td>Candes 12 L Room/Personal Air Cooler?ÿ?ÿ(White...</td>\n",
              "      <td>3999.0</td>\n",
              "      <td>3</td>\n",
              "      <td>Fair</td>\n",
              "      <td>The quality is good but the power of air is de...</td>\n",
              "      <td>0.566667</td>\n",
              "    </tr>\n",
              "    <tr>\n",
              "      <th>3</th>\n",
              "      <td>Candes 12 L Room/Personal Air Cooler?ÿ?ÿ(White...</td>\n",
              "      <td>3999.0</td>\n",
              "      <td>1</td>\n",
              "      <td>Useless product</td>\n",
              "      <td>Very bad product it's a only a fan</td>\n",
              "      <td>-0.477500</td>\n",
              "    </tr>\n",
              "    <tr>\n",
              "      <th>4</th>\n",
              "      <td>Candes 12 L Room/Personal Air Cooler?ÿ?ÿ(White...</td>\n",
              "      <td>3999.0</td>\n",
              "      <td>3</td>\n",
              "      <td>Fair</td>\n",
              "      <td>Ok ok product</td>\n",
              "      <td>0.600000</td>\n",
              "    </tr>\n",
              "  </tbody>\n",
              "</table>\n",
              "</div>\n",
              "    <div class=\"colab-df-buttons\">\n",
              "\n",
              "  <div class=\"colab-df-container\">\n",
              "    <button class=\"colab-df-convert\" onclick=\"convertToInteractive('df-af980e80-c4ad-4bb8-81fd-2cd12085d532')\"\n",
              "            title=\"Convert this dataframe to an interactive table.\"\n",
              "            style=\"display:none;\">\n",
              "\n",
              "  <svg xmlns=\"http://www.w3.org/2000/svg\" height=\"24px\" viewBox=\"0 -960 960 960\">\n",
              "    <path d=\"M120-120v-720h720v720H120Zm60-500h600v-160H180v160Zm220 220h160v-160H400v160Zm0 220h160v-160H400v160ZM180-400h160v-160H180v160Zm440 0h160v-160H620v160ZM180-180h160v-160H180v160Zm440 0h160v-160H620v160Z\"/>\n",
              "  </svg>\n",
              "    </button>\n",
              "\n",
              "  <style>\n",
              "    .colab-df-container {\n",
              "      display:flex;\n",
              "      gap: 12px;\n",
              "    }\n",
              "\n",
              "    .colab-df-convert {\n",
              "      background-color: #E8F0FE;\n",
              "      border: none;\n",
              "      border-radius: 50%;\n",
              "      cursor: pointer;\n",
              "      display: none;\n",
              "      fill: #1967D2;\n",
              "      height: 32px;\n",
              "      padding: 0 0 0 0;\n",
              "      width: 32px;\n",
              "    }\n",
              "\n",
              "    .colab-df-convert:hover {\n",
              "      background-color: #E2EBFA;\n",
              "      box-shadow: 0px 1px 2px rgba(60, 64, 67, 0.3), 0px 1px 3px 1px rgba(60, 64, 67, 0.15);\n",
              "      fill: #174EA6;\n",
              "    }\n",
              "\n",
              "    .colab-df-buttons div {\n",
              "      margin-bottom: 4px;\n",
              "    }\n",
              "\n",
              "    [theme=dark] .colab-df-convert {\n",
              "      background-color: #3B4455;\n",
              "      fill: #D2E3FC;\n",
              "    }\n",
              "\n",
              "    [theme=dark] .colab-df-convert:hover {\n",
              "      background-color: #434B5C;\n",
              "      box-shadow: 0px 1px 3px 1px rgba(0, 0, 0, 0.15);\n",
              "      filter: drop-shadow(0px 1px 2px rgba(0, 0, 0, 0.3));\n",
              "      fill: #FFFFFF;\n",
              "    }\n",
              "  </style>\n",
              "\n",
              "    <script>\n",
              "      const buttonEl =\n",
              "        document.querySelector('#df-af980e80-c4ad-4bb8-81fd-2cd12085d532 button.colab-df-convert');\n",
              "      buttonEl.style.display =\n",
              "        google.colab.kernel.accessAllowed ? 'block' : 'none';\n",
              "\n",
              "      async function convertToInteractive(key) {\n",
              "        const element = document.querySelector('#df-af980e80-c4ad-4bb8-81fd-2cd12085d532');\n",
              "        const dataTable =\n",
              "          await google.colab.kernel.invokeFunction('convertToInteractive',\n",
              "                                                    [key], {});\n",
              "        if (!dataTable) return;\n",
              "\n",
              "        const docLinkHtml = 'Like what you see? Visit the ' +\n",
              "          '<a target=\"_blank\" href=https://colab.research.google.com/notebooks/data_table.ipynb>data table notebook</a>'\n",
              "          + ' to learn more about interactive tables.';\n",
              "        element.innerHTML = '';\n",
              "        dataTable['output_type'] = 'display_data';\n",
              "        await google.colab.output.renderOutput(dataTable, element);\n",
              "        const docLink = document.createElement('div');\n",
              "        docLink.innerHTML = docLinkHtml;\n",
              "        element.appendChild(docLink);\n",
              "      }\n",
              "    </script>\n",
              "  </div>\n",
              "\n",
              "\n",
              "<div id=\"df-44b5e8cc-374a-456d-b319-56df56710ea7\">\n",
              "  <button class=\"colab-df-quickchart\" onclick=\"quickchart('df-44b5e8cc-374a-456d-b319-56df56710ea7')\"\n",
              "            title=\"Suggest charts\"\n",
              "            style=\"display:none;\">\n",
              "\n",
              "<svg xmlns=\"http://www.w3.org/2000/svg\" height=\"24px\"viewBox=\"0 0 24 24\"\n",
              "     width=\"24px\">\n",
              "    <g>\n",
              "        <path d=\"M19 3H5c-1.1 0-2 .9-2 2v14c0 1.1.9 2 2 2h14c1.1 0 2-.9 2-2V5c0-1.1-.9-2-2-2zM9 17H7v-7h2v7zm4 0h-2V7h2v10zm4 0h-2v-4h2v4z\"/>\n",
              "    </g>\n",
              "</svg>\n",
              "  </button>\n",
              "\n",
              "<style>\n",
              "  .colab-df-quickchart {\n",
              "      --bg-color: #E8F0FE;\n",
              "      --fill-color: #1967D2;\n",
              "      --hover-bg-color: #E2EBFA;\n",
              "      --hover-fill-color: #174EA6;\n",
              "      --disabled-fill-color: #AAA;\n",
              "      --disabled-bg-color: #DDD;\n",
              "  }\n",
              "\n",
              "  [theme=dark] .colab-df-quickchart {\n",
              "      --bg-color: #3B4455;\n",
              "      --fill-color: #D2E3FC;\n",
              "      --hover-bg-color: #434B5C;\n",
              "      --hover-fill-color: #FFFFFF;\n",
              "      --disabled-bg-color: #3B4455;\n",
              "      --disabled-fill-color: #666;\n",
              "  }\n",
              "\n",
              "  .colab-df-quickchart {\n",
              "    background-color: var(--bg-color);\n",
              "    border: none;\n",
              "    border-radius: 50%;\n",
              "    cursor: pointer;\n",
              "    display: none;\n",
              "    fill: var(--fill-color);\n",
              "    height: 32px;\n",
              "    padding: 0;\n",
              "    width: 32px;\n",
              "  }\n",
              "\n",
              "  .colab-df-quickchart:hover {\n",
              "    background-color: var(--hover-bg-color);\n",
              "    box-shadow: 0 1px 2px rgba(60, 64, 67, 0.3), 0 1px 3px 1px rgba(60, 64, 67, 0.15);\n",
              "    fill: var(--button-hover-fill-color);\n",
              "  }\n",
              "\n",
              "  .colab-df-quickchart-complete:disabled,\n",
              "  .colab-df-quickchart-complete:disabled:hover {\n",
              "    background-color: var(--disabled-bg-color);\n",
              "    fill: var(--disabled-fill-color);\n",
              "    box-shadow: none;\n",
              "  }\n",
              "\n",
              "  .colab-df-spinner {\n",
              "    border: 2px solid var(--fill-color);\n",
              "    border-color: transparent;\n",
              "    border-bottom-color: var(--fill-color);\n",
              "    animation:\n",
              "      spin 1s steps(1) infinite;\n",
              "  }\n",
              "\n",
              "  @keyframes spin {\n",
              "    0% {\n",
              "      border-color: transparent;\n",
              "      border-bottom-color: var(--fill-color);\n",
              "      border-left-color: var(--fill-color);\n",
              "    }\n",
              "    20% {\n",
              "      border-color: transparent;\n",
              "      border-left-color: var(--fill-color);\n",
              "      border-top-color: var(--fill-color);\n",
              "    }\n",
              "    30% {\n",
              "      border-color: transparent;\n",
              "      border-left-color: var(--fill-color);\n",
              "      border-top-color: var(--fill-color);\n",
              "      border-right-color: var(--fill-color);\n",
              "    }\n",
              "    40% {\n",
              "      border-color: transparent;\n",
              "      border-right-color: var(--fill-color);\n",
              "      border-top-color: var(--fill-color);\n",
              "    }\n",
              "    60% {\n",
              "      border-color: transparent;\n",
              "      border-right-color: var(--fill-color);\n",
              "    }\n",
              "    80% {\n",
              "      border-color: transparent;\n",
              "      border-right-color: var(--fill-color);\n",
              "      border-bottom-color: var(--fill-color);\n",
              "    }\n",
              "    90% {\n",
              "      border-color: transparent;\n",
              "      border-bottom-color: var(--fill-color);\n",
              "    }\n",
              "  }\n",
              "</style>\n",
              "\n",
              "  <script>\n",
              "    async function quickchart(key) {\n",
              "      const quickchartButtonEl =\n",
              "        document.querySelector('#' + key + ' button');\n",
              "      quickchartButtonEl.disabled = true;  // To prevent multiple clicks.\n",
              "      quickchartButtonEl.classList.add('colab-df-spinner');\n",
              "      try {\n",
              "        const charts = await google.colab.kernel.invokeFunction(\n",
              "            'suggestCharts', [key], {});\n",
              "      } catch (error) {\n",
              "        console.error('Error during call to suggestCharts:', error);\n",
              "      }\n",
              "      quickchartButtonEl.classList.remove('colab-df-spinner');\n",
              "      quickchartButtonEl.classList.add('colab-df-quickchart-complete');\n",
              "    }\n",
              "    (() => {\n",
              "      let quickchartButtonEl =\n",
              "        document.querySelector('#df-44b5e8cc-374a-456d-b319-56df56710ea7 button');\n",
              "      quickchartButtonEl.style.display =\n",
              "        google.colab.kernel.accessAllowed ? 'block' : 'none';\n",
              "    })();\n",
              "  </script>\n",
              "</div>\n",
              "\n",
              "    </div>\n",
              "  </div>\n"
            ],
            "application/vnd.google.colaboratory.intrinsic+json": {
              "type": "dataframe",
              "variable_name": "df",
              "summary": "{\n  \"name\": \"df\",\n  \"rows\": 10400,\n  \"fields\": [\n    {\n      \"column\": \"ProductName\",\n      \"properties\": {\n        \"dtype\": \"category\",\n        \"num_unique_values\": 64,\n        \"samples\": [\n          \"Airtel Airtel Universal Setup box Remote Digital Setup box Universal Remote Airtel Remote Controller?\\u00ff?\\u00ff(Black)\",\n          \"Prestige PRWO 1.8-2 Electric Rice Cooker with Steaming Feature?\\u00ff?\\u00ff(1.8 L, White)\",\n          \"Candes 12 L Room/Personal Air Cooler?\\u00ff?\\u00ff(White, Black, Elegant High Speed-Honey Comb Cooling Pad & Ice Chamber, Blower)\"\n        ],\n        \"semantic_type\": \"\",\n        \"description\": \"\"\n      }\n    },\n    {\n      \"column\": \"Price\",\n      \"properties\": {\n        \"dtype\": \"number\",\n        \"std\": 12220.393843371647,\n        \"min\": 195.0,\n        \"max\": 52990.0,\n        \"num_unique_values\": 55,\n        \"samples\": [\n          205.0,\n          9990.0,\n          1256.0\n        ],\n        \"semantic_type\": \"\",\n        \"description\": \"\"\n      }\n    },\n    {\n      \"column\": \"Rate\",\n      \"properties\": {\n        \"dtype\": \"category\",\n        \"num_unique_values\": 5,\n        \"samples\": [\n          \"3\",\n          \"2\",\n          \"1\"\n        ],\n        \"semantic_type\": \"\",\n        \"description\": \"\"\n      }\n    },\n    {\n      \"column\": \"Review\",\n      \"properties\": {\n        \"dtype\": \"category\",\n        \"num_unique_values\": 149,\n        \"samples\": [\n          \"Must Buy.......\",\n          \"Terrific\",\n          \"Very Good Product\"\n        ],\n        \"semantic_type\": \"\",\n        \"description\": \"\"\n      }\n    },\n    {\n      \"column\": \"Summary\",\n      \"properties\": {\n        \"dtype\": \"string\",\n        \"num_unique_values\": 6531,\n        \"samples\": [\n          \"I am satisfied with hindware.\",\n          \"Looking good\",\n          \"Excellent team. Safe & hygiene delivery.Product working really great\"\n        ],\n        \"semantic_type\": \"\",\n        \"description\": \"\"\n      }\n    },\n    {\n      \"column\": \"SentimentScore\",\n      \"properties\": {\n        \"dtype\": \"number\",\n        \"std\": 0.3903256300282794,\n        \"min\": -1.0,\n        \"max\": 1.0,\n        \"num_unique_values\": 1936,\n        \"samples\": [\n          0.9025,\n          0.315,\n          0.5700000000000001\n        ],\n        \"semantic_type\": \"\",\n        \"description\": \"\"\n      }\n    }\n  ]\n}"
            }
          },
          "metadata": {},
          "execution_count": 21
        }
      ]
    },
    {
      "cell_type": "code",
      "source": [
        "print(df['SentimentScore'].dtype)"
      ],
      "metadata": {
        "colab": {
          "base_uri": "https://localhost:8080/"
        },
        "id": "OCvSlbvopNUG",
        "outputId": "e628bdba-1ea7-4521-decc-eec825368cb7"
      },
      "execution_count": null,
      "outputs": [
        {
          "output_type": "stream",
          "name": "stdout",
          "text": [
            "float64\n"
          ]
        }
      ]
    },
    {
      "cell_type": "code",
      "source": [
        "# Define sentiment score ranges and their corresponding numeric values\n",
        "# Adjust the score ranges and values based on your specific criteria\n",
        "df['SentimentCategory'] = pd.cut(df['SentimentScore'], bins=[-1, 0, 0.2, 1], labels=['Negative', 'Neutral', 'Positive'])\n",
        "\n",
        "# Display the DataFrame with the new 'SentimentCategory' column\n",
        "print(df[['SentimentScore', 'SentimentCategory']])"
      ],
      "metadata": {
        "colab": {
          "base_uri": "https://localhost:8080/"
        },
        "id": "PaqgM6LqpRzI",
        "outputId": "20a2da35-3d48-4968-9083-56d54733d803"
      },
      "execution_count": null,
      "outputs": [
        {
          "output_type": "stream",
          "name": "stdout",
          "text": [
            "       SentimentScore SentimentCategory\n",
            "0            0.570833          Positive\n",
            "1            0.833333          Positive\n",
            "2            0.566667          Positive\n",
            "3           -0.477500          Negative\n",
            "4            0.600000          Positive\n",
            "...               ...               ...\n",
            "41959        0.166667           Neutral\n",
            "41960       -0.850000          Negative\n",
            "41961        0.850000          Positive\n",
            "41962        0.650000          Positive\n",
            "41963        0.600000          Positive\n",
            "\n",
            "[10400 rows x 2 columns]\n"
          ]
        }
      ]
    },
    {
      "cell_type": "code",
      "source": [
        "df.head()"
      ],
      "metadata": {
        "colab": {
          "base_uri": "https://localhost:8080/",
          "height": 625
        },
        "id": "3baEip32pVHh",
        "outputId": "de7fabc9-2594-4113-c06a-d5653c447a88"
      },
      "execution_count": null,
      "outputs": [
        {
          "output_type": "execute_result",
          "data": {
            "text/plain": [
              "                                         ProductName   Price Rate  \\\n",
              "0  Candes 12 L Room/Personal Air Cooler?ÿ?ÿ(White...  3999.0    5   \n",
              "1  Candes 12 L Room/Personal Air Cooler?ÿ?ÿ(White...  3999.0    5   \n",
              "2  Candes 12 L Room/Personal Air Cooler?ÿ?ÿ(White...  3999.0    3   \n",
              "3  Candes 12 L Room/Personal Air Cooler?ÿ?ÿ(White...  3999.0    1   \n",
              "4  Candes 12 L Room/Personal Air Cooler?ÿ?ÿ(White...  3999.0    3   \n",
              "\n",
              "            Review                                            Summary  \\\n",
              "0           Super!  Great cooler.. excellent air flow and for this...   \n",
              "1          Awesome             Best budget 2 fit cooler. Nice cooling   \n",
              "2             Fair  The quality is good but the power of air is de...   \n",
              "3  Useless product                 Very bad product it's a only a fan   \n",
              "4             Fair                                      Ok ok product   \n",
              "\n",
              "   SentimentScore SentimentCategory  \n",
              "0        0.570833          Positive  \n",
              "1        0.833333          Positive  \n",
              "2        0.566667          Positive  \n",
              "3       -0.477500          Negative  \n",
              "4        0.600000          Positive  "
            ],
            "text/html": [
              "\n",
              "  <div id=\"df-7538ba48-228b-4f45-a310-d864c0cc63e2\" class=\"colab-df-container\">\n",
              "    <div>\n",
              "<style scoped>\n",
              "    .dataframe tbody tr th:only-of-type {\n",
              "        vertical-align: middle;\n",
              "    }\n",
              "\n",
              "    .dataframe tbody tr th {\n",
              "        vertical-align: top;\n",
              "    }\n",
              "\n",
              "    .dataframe thead th {\n",
              "        text-align: right;\n",
              "    }\n",
              "</style>\n",
              "<table border=\"1\" class=\"dataframe\">\n",
              "  <thead>\n",
              "    <tr style=\"text-align: right;\">\n",
              "      <th></th>\n",
              "      <th>ProductName</th>\n",
              "      <th>Price</th>\n",
              "      <th>Rate</th>\n",
              "      <th>Review</th>\n",
              "      <th>Summary</th>\n",
              "      <th>SentimentScore</th>\n",
              "      <th>SentimentCategory</th>\n",
              "    </tr>\n",
              "  </thead>\n",
              "  <tbody>\n",
              "    <tr>\n",
              "      <th>0</th>\n",
              "      <td>Candes 12 L Room/Personal Air Cooler?ÿ?ÿ(White...</td>\n",
              "      <td>3999.0</td>\n",
              "      <td>5</td>\n",
              "      <td>Super!</td>\n",
              "      <td>Great cooler.. excellent air flow and for this...</td>\n",
              "      <td>0.570833</td>\n",
              "      <td>Positive</td>\n",
              "    </tr>\n",
              "    <tr>\n",
              "      <th>1</th>\n",
              "      <td>Candes 12 L Room/Personal Air Cooler?ÿ?ÿ(White...</td>\n",
              "      <td>3999.0</td>\n",
              "      <td>5</td>\n",
              "      <td>Awesome</td>\n",
              "      <td>Best budget 2 fit cooler. Nice cooling</td>\n",
              "      <td>0.833333</td>\n",
              "      <td>Positive</td>\n",
              "    </tr>\n",
              "    <tr>\n",
              "      <th>2</th>\n",
              "      <td>Candes 12 L Room/Personal Air Cooler?ÿ?ÿ(White...</td>\n",
              "      <td>3999.0</td>\n",
              "      <td>3</td>\n",
              "      <td>Fair</td>\n",
              "      <td>The quality is good but the power of air is de...</td>\n",
              "      <td>0.566667</td>\n",
              "      <td>Positive</td>\n",
              "    </tr>\n",
              "    <tr>\n",
              "      <th>3</th>\n",
              "      <td>Candes 12 L Room/Personal Air Cooler?ÿ?ÿ(White...</td>\n",
              "      <td>3999.0</td>\n",
              "      <td>1</td>\n",
              "      <td>Useless product</td>\n",
              "      <td>Very bad product it's a only a fan</td>\n",
              "      <td>-0.477500</td>\n",
              "      <td>Negative</td>\n",
              "    </tr>\n",
              "    <tr>\n",
              "      <th>4</th>\n",
              "      <td>Candes 12 L Room/Personal Air Cooler?ÿ?ÿ(White...</td>\n",
              "      <td>3999.0</td>\n",
              "      <td>3</td>\n",
              "      <td>Fair</td>\n",
              "      <td>Ok ok product</td>\n",
              "      <td>0.600000</td>\n",
              "      <td>Positive</td>\n",
              "    </tr>\n",
              "  </tbody>\n",
              "</table>\n",
              "</div>\n",
              "    <div class=\"colab-df-buttons\">\n",
              "\n",
              "  <div class=\"colab-df-container\">\n",
              "    <button class=\"colab-df-convert\" onclick=\"convertToInteractive('df-7538ba48-228b-4f45-a310-d864c0cc63e2')\"\n",
              "            title=\"Convert this dataframe to an interactive table.\"\n",
              "            style=\"display:none;\">\n",
              "\n",
              "  <svg xmlns=\"http://www.w3.org/2000/svg\" height=\"24px\" viewBox=\"0 -960 960 960\">\n",
              "    <path d=\"M120-120v-720h720v720H120Zm60-500h600v-160H180v160Zm220 220h160v-160H400v160Zm0 220h160v-160H400v160ZM180-400h160v-160H180v160Zm440 0h160v-160H620v160ZM180-180h160v-160H180v160Zm440 0h160v-160H620v160Z\"/>\n",
              "  </svg>\n",
              "    </button>\n",
              "\n",
              "  <style>\n",
              "    .colab-df-container {\n",
              "      display:flex;\n",
              "      gap: 12px;\n",
              "    }\n",
              "\n",
              "    .colab-df-convert {\n",
              "      background-color: #E8F0FE;\n",
              "      border: none;\n",
              "      border-radius: 50%;\n",
              "      cursor: pointer;\n",
              "      display: none;\n",
              "      fill: #1967D2;\n",
              "      height: 32px;\n",
              "      padding: 0 0 0 0;\n",
              "      width: 32px;\n",
              "    }\n",
              "\n",
              "    .colab-df-convert:hover {\n",
              "      background-color: #E2EBFA;\n",
              "      box-shadow: 0px 1px 2px rgba(60, 64, 67, 0.3), 0px 1px 3px 1px rgba(60, 64, 67, 0.15);\n",
              "      fill: #174EA6;\n",
              "    }\n",
              "\n",
              "    .colab-df-buttons div {\n",
              "      margin-bottom: 4px;\n",
              "    }\n",
              "\n",
              "    [theme=dark] .colab-df-convert {\n",
              "      background-color: #3B4455;\n",
              "      fill: #D2E3FC;\n",
              "    }\n",
              "\n",
              "    [theme=dark] .colab-df-convert:hover {\n",
              "      background-color: #434B5C;\n",
              "      box-shadow: 0px 1px 3px 1px rgba(0, 0, 0, 0.15);\n",
              "      filter: drop-shadow(0px 1px 2px rgba(0, 0, 0, 0.3));\n",
              "      fill: #FFFFFF;\n",
              "    }\n",
              "  </style>\n",
              "\n",
              "    <script>\n",
              "      const buttonEl =\n",
              "        document.querySelector('#df-7538ba48-228b-4f45-a310-d864c0cc63e2 button.colab-df-convert');\n",
              "      buttonEl.style.display =\n",
              "        google.colab.kernel.accessAllowed ? 'block' : 'none';\n",
              "\n",
              "      async function convertToInteractive(key) {\n",
              "        const element = document.querySelector('#df-7538ba48-228b-4f45-a310-d864c0cc63e2');\n",
              "        const dataTable =\n",
              "          await google.colab.kernel.invokeFunction('convertToInteractive',\n",
              "                                                    [key], {});\n",
              "        if (!dataTable) return;\n",
              "\n",
              "        const docLinkHtml = 'Like what you see? Visit the ' +\n",
              "          '<a target=\"_blank\" href=https://colab.research.google.com/notebooks/data_table.ipynb>data table notebook</a>'\n",
              "          + ' to learn more about interactive tables.';\n",
              "        element.innerHTML = '';\n",
              "        dataTable['output_type'] = 'display_data';\n",
              "        await google.colab.output.renderOutput(dataTable, element);\n",
              "        const docLink = document.createElement('div');\n",
              "        docLink.innerHTML = docLinkHtml;\n",
              "        element.appendChild(docLink);\n",
              "      }\n",
              "    </script>\n",
              "  </div>\n",
              "\n",
              "\n",
              "<div id=\"df-23587f41-38cf-42c9-99fd-9d602f12c39f\">\n",
              "  <button class=\"colab-df-quickchart\" onclick=\"quickchart('df-23587f41-38cf-42c9-99fd-9d602f12c39f')\"\n",
              "            title=\"Suggest charts\"\n",
              "            style=\"display:none;\">\n",
              "\n",
              "<svg xmlns=\"http://www.w3.org/2000/svg\" height=\"24px\"viewBox=\"0 0 24 24\"\n",
              "     width=\"24px\">\n",
              "    <g>\n",
              "        <path d=\"M19 3H5c-1.1 0-2 .9-2 2v14c0 1.1.9 2 2 2h14c1.1 0 2-.9 2-2V5c0-1.1-.9-2-2-2zM9 17H7v-7h2v7zm4 0h-2V7h2v10zm4 0h-2v-4h2v4z\"/>\n",
              "    </g>\n",
              "</svg>\n",
              "  </button>\n",
              "\n",
              "<style>\n",
              "  .colab-df-quickchart {\n",
              "      --bg-color: #E8F0FE;\n",
              "      --fill-color: #1967D2;\n",
              "      --hover-bg-color: #E2EBFA;\n",
              "      --hover-fill-color: #174EA6;\n",
              "      --disabled-fill-color: #AAA;\n",
              "      --disabled-bg-color: #DDD;\n",
              "  }\n",
              "\n",
              "  [theme=dark] .colab-df-quickchart {\n",
              "      --bg-color: #3B4455;\n",
              "      --fill-color: #D2E3FC;\n",
              "      --hover-bg-color: #434B5C;\n",
              "      --hover-fill-color: #FFFFFF;\n",
              "      --disabled-bg-color: #3B4455;\n",
              "      --disabled-fill-color: #666;\n",
              "  }\n",
              "\n",
              "  .colab-df-quickchart {\n",
              "    background-color: var(--bg-color);\n",
              "    border: none;\n",
              "    border-radius: 50%;\n",
              "    cursor: pointer;\n",
              "    display: none;\n",
              "    fill: var(--fill-color);\n",
              "    height: 32px;\n",
              "    padding: 0;\n",
              "    width: 32px;\n",
              "  }\n",
              "\n",
              "  .colab-df-quickchart:hover {\n",
              "    background-color: var(--hover-bg-color);\n",
              "    box-shadow: 0 1px 2px rgba(60, 64, 67, 0.3), 0 1px 3px 1px rgba(60, 64, 67, 0.15);\n",
              "    fill: var(--button-hover-fill-color);\n",
              "  }\n",
              "\n",
              "  .colab-df-quickchart-complete:disabled,\n",
              "  .colab-df-quickchart-complete:disabled:hover {\n",
              "    background-color: var(--disabled-bg-color);\n",
              "    fill: var(--disabled-fill-color);\n",
              "    box-shadow: none;\n",
              "  }\n",
              "\n",
              "  .colab-df-spinner {\n",
              "    border: 2px solid var(--fill-color);\n",
              "    border-color: transparent;\n",
              "    border-bottom-color: var(--fill-color);\n",
              "    animation:\n",
              "      spin 1s steps(1) infinite;\n",
              "  }\n",
              "\n",
              "  @keyframes spin {\n",
              "    0% {\n",
              "      border-color: transparent;\n",
              "      border-bottom-color: var(--fill-color);\n",
              "      border-left-color: var(--fill-color);\n",
              "    }\n",
              "    20% {\n",
              "      border-color: transparent;\n",
              "      border-left-color: var(--fill-color);\n",
              "      border-top-color: var(--fill-color);\n",
              "    }\n",
              "    30% {\n",
              "      border-color: transparent;\n",
              "      border-left-color: var(--fill-color);\n",
              "      border-top-color: var(--fill-color);\n",
              "      border-right-color: var(--fill-color);\n",
              "    }\n",
              "    40% {\n",
              "      border-color: transparent;\n",
              "      border-right-color: var(--fill-color);\n",
              "      border-top-color: var(--fill-color);\n",
              "    }\n",
              "    60% {\n",
              "      border-color: transparent;\n",
              "      border-right-color: var(--fill-color);\n",
              "    }\n",
              "    80% {\n",
              "      border-color: transparent;\n",
              "      border-right-color: var(--fill-color);\n",
              "      border-bottom-color: var(--fill-color);\n",
              "    }\n",
              "    90% {\n",
              "      border-color: transparent;\n",
              "      border-bottom-color: var(--fill-color);\n",
              "    }\n",
              "  }\n",
              "</style>\n",
              "\n",
              "  <script>\n",
              "    async function quickchart(key) {\n",
              "      const quickchartButtonEl =\n",
              "        document.querySelector('#' + key + ' button');\n",
              "      quickchartButtonEl.disabled = true;  // To prevent multiple clicks.\n",
              "      quickchartButtonEl.classList.add('colab-df-spinner');\n",
              "      try {\n",
              "        const charts = await google.colab.kernel.invokeFunction(\n",
              "            'suggestCharts', [key], {});\n",
              "      } catch (error) {\n",
              "        console.error('Error during call to suggestCharts:', error);\n",
              "      }\n",
              "      quickchartButtonEl.classList.remove('colab-df-spinner');\n",
              "      quickchartButtonEl.classList.add('colab-df-quickchart-complete');\n",
              "    }\n",
              "    (() => {\n",
              "      let quickchartButtonEl =\n",
              "        document.querySelector('#df-23587f41-38cf-42c9-99fd-9d602f12c39f button');\n",
              "      quickchartButtonEl.style.display =\n",
              "        google.colab.kernel.accessAllowed ? 'block' : 'none';\n",
              "    })();\n",
              "  </script>\n",
              "</div>\n",
              "\n",
              "    </div>\n",
              "  </div>\n"
            ],
            "application/vnd.google.colaboratory.intrinsic+json": {
              "type": "dataframe",
              "variable_name": "df",
              "summary": "{\n  \"name\": \"df\",\n  \"rows\": 10400,\n  \"fields\": [\n    {\n      \"column\": \"ProductName\",\n      \"properties\": {\n        \"dtype\": \"category\",\n        \"num_unique_values\": 64,\n        \"samples\": [\n          \"Airtel Airtel Universal Setup box Remote Digital Setup box Universal Remote Airtel Remote Controller?\\u00ff?\\u00ff(Black)\",\n          \"Prestige PRWO 1.8-2 Electric Rice Cooker with Steaming Feature?\\u00ff?\\u00ff(1.8 L, White)\",\n          \"Candes 12 L Room/Personal Air Cooler?\\u00ff?\\u00ff(White, Black, Elegant High Speed-Honey Comb Cooling Pad & Ice Chamber, Blower)\"\n        ],\n        \"semantic_type\": \"\",\n        \"description\": \"\"\n      }\n    },\n    {\n      \"column\": \"Price\",\n      \"properties\": {\n        \"dtype\": \"number\",\n        \"std\": 12220.393843371647,\n        \"min\": 195.0,\n        \"max\": 52990.0,\n        \"num_unique_values\": 55,\n        \"samples\": [\n          205.0,\n          9990.0,\n          1256.0\n        ],\n        \"semantic_type\": \"\",\n        \"description\": \"\"\n      }\n    },\n    {\n      \"column\": \"Rate\",\n      \"properties\": {\n        \"dtype\": \"category\",\n        \"num_unique_values\": 5,\n        \"samples\": [\n          \"3\",\n          \"2\",\n          \"1\"\n        ],\n        \"semantic_type\": \"\",\n        \"description\": \"\"\n      }\n    },\n    {\n      \"column\": \"Review\",\n      \"properties\": {\n        \"dtype\": \"category\",\n        \"num_unique_values\": 149,\n        \"samples\": [\n          \"Must Buy.......\",\n          \"Terrific\",\n          \"Very Good Product\"\n        ],\n        \"semantic_type\": \"\",\n        \"description\": \"\"\n      }\n    },\n    {\n      \"column\": \"Summary\",\n      \"properties\": {\n        \"dtype\": \"string\",\n        \"num_unique_values\": 6531,\n        \"samples\": [\n          \"I am satisfied with hindware.\",\n          \"Looking good\",\n          \"Excellent team. Safe & hygiene delivery.Product working really great\"\n        ],\n        \"semantic_type\": \"\",\n        \"description\": \"\"\n      }\n    },\n    {\n      \"column\": \"SentimentScore\",\n      \"properties\": {\n        \"dtype\": \"number\",\n        \"std\": 0.3903256300282794,\n        \"min\": -1.0,\n        \"max\": 1.0,\n        \"num_unique_values\": 1936,\n        \"samples\": [\n          0.9025,\n          0.315,\n          0.5700000000000001\n        ],\n        \"semantic_type\": \"\",\n        \"description\": \"\"\n      }\n    },\n    {\n      \"column\": \"SentimentCategory\",\n      \"properties\": {\n        \"dtype\": \"category\",\n        \"num_unique_values\": 3,\n        \"samples\": [\n          \"Positive\",\n          \"Negative\",\n          \"Neutral\"\n        ],\n        \"semantic_type\": \"\",\n        \"description\": \"\"\n      }\n    }\n  ]\n}"
            }
          },
          "metadata": {},
          "execution_count": 25
        }
      ]
    },
    {
      "cell_type": "code",
      "source": [
        "import matplotlib.pyplot as plt\n",
        "\n",
        "# Assuming 'SentimentCategory' is a categorical column in your DataFrame\n",
        "sentiment_counts = df['SentimentCategory'].value_counts()\n",
        "\n",
        "# Plotting the bar chart\n",
        "plt.bar(sentiment_counts.index, sentiment_counts.values, color=['red', 'grey', 'green'])\n",
        "plt.title('Distribution of Sentiment Categories')\n",
        "plt.xlabel('Sentiment Category')\n",
        "plt.ylabel('Number of Sentiments')\n",
        "plt.show()"
      ],
      "metadata": {
        "colab": {
          "base_uri": "https://localhost:8080/",
          "height": 472
        },
        "id": "RtJWr1_xpZ4j",
        "outputId": "53e6df15-2749-4365-f387-720f4b1f1377"
      },
      "execution_count": null,
      "outputs": [
        {
          "output_type": "display_data",
          "data": {
            "text/plain": [
              "<Figure size 640x480 with 1 Axes>"
            ],
            "image/png": "[encoded data removed]"
          },
          "metadata": {}
        }
      ]
    },
    {
      "cell_type": "code",
      "source": [
        "import seaborn as sns\n",
        "import matplotlib.pyplot as plt\n",
        "\n",
        "# Assuming 'SentimentCategory' and 'Price' are columns in your DataFrame\n",
        "plt.figure(figsize=(10, 6))\n",
        "sns.boxplot(x='SentimentCategory', y='Price', data=df, palette='viridis')\n",
        "plt.title('Sentiment Category vs. Prices')\n",
        "plt.xlabel('Sentiment Category')\n",
        "plt.ylabel('Price')\n",
        "plt.show()"
      ],
      "metadata": {
        "colab": {
          "base_uri": "https://localhost:8080/",
          "height": 671
        },
        "id": "U2xw7KmtpdL-",
        "outputId": "6eb06f0b-d75d-4690-e5df-ad3316cb8ef9"
      },
      "execution_count": null,
      "outputs": [
        {
          "output_type": "stream",
          "name": "stderr",
          "text": [
            "<ipython-input-27-3cec7c6cbf99>:6: FutureWarning: \n",
            "\n",
            "Passing `palette` without assigning `hue` is deprecated and will be removed in v0.14.0. Assign the `x` variable to `hue` and set `legend=False` for the same effect.\n",
            "\n",
            "  sns.boxplot(x='SentimentCategory', y='Price', data=df, palette='viridis')\n"
          ]
        },
        {
          "output_type": "display_data",
          "data": {
            "text/plain": [
              "<Figure size 1000x600 with 1 Axes>"
            ],
            "image/png": "[encoded data removed]"
          },
          "metadata": {}
        }
      ]
    },
    {
      "cell_type": "code",
      "source": [
        "# Calculate correlation between 'Price' and 'SentimentScore'\n",
        "correlation = df['Price'].corr(df['SentimentScore'])\n",
        "\n",
        "# Print the correlation coefficient\n",
        "print(f\"Correlation between 'Price' and 'SentimentScore': {correlation}\")"
      ],
      "metadata": {
        "colab": {
          "base_uri": "https://localhost:8080/"
        },
        "id": "SgbRfc9gpgHk",
        "outputId": "be3df44e-30a1-4875-97aa-2890345f16e0"
      },
      "execution_count": null,
      "outputs": [
        {
          "output_type": "stream",
          "name": "stdout",
          "text": [
            "Correlation between 'Price' and 'SentimentScore': 0.017570753351654235\n"
          ]
        }
      ]
    },
    {
      "cell_type": "code",
      "source": [
        "# Sort products by combined sentiment score in descending order\n",
        "N = 100\n",
        "recommended_products = df.sort_values(by='SentimentScore', ascending=False)[['ProductName', 'Price']].head(N)\n",
        "\n",
        "# A list of top 100 products based of the customers review\n",
        "print(f\"Top {N} Recommended Products:\")\n",
        "for idx, row in recommended_products.iterrows():\n",
        "    print(f\"{row['ProductName']} - Price: {row['Price']}\")"
      ],
      "metadata": {
        "id": "mrUQHGbEpkNZ"
      },
      "execution_count": null,
      "outputs": []
    },
    {
      "cell_type": "code",
      "source": [
        "#Converts non-numeric values to NAN\n",
        "df['Rate'] = pd.to_numeric(df['Rate'], errors='coerce')\n",
        "\n",
        "#catagorize the values based on their rating\n",
        "def categorize_rating(rate):\n",
        "    if rate == 5:\n",
        "        return 'Excellent'\n",
        "    elif rate == 4:\n",
        "        return 'Good'\n",
        "    elif rate == 3:\n",
        "        return 'Average'\n",
        "    elif rate == 2:\n",
        "        return 'Poor'\n",
        "    elif rate == 1:\n",
        "        return 'Very Poor'\n",
        "    else:\n",
        "        return 'Invalid Rating'\n",
        "\n",
        "df['RatingCategory'] = df['Rate'].apply(categorize_rating)"
      ],
      "metadata": {
        "id": "XdjcvahupnOL"
      },
      "execution_count": null,
      "outputs": []
    },
    {
      "cell_type": "code",
      "source": [
        "rating_counts = df['RatingCategory'].value_counts()\n",
        "\n",
        "# Create a pie chart\n",
        "plt.figure(figsize=(8, 6))\n",
        "plt.pie(rating_counts, labels=rating_counts.index, autopct='%1.1f%%', startangle=140)\n",
        "plt.title('Distribution of Product Ratings')\n",
        "plt.axis('equal')  # Equal aspect ratio ensures that pie is drawn as a circle.\n",
        "\n",
        "# Display the pie chart\n",
        "plt.show()"
      ],
      "metadata": {
        "colab": {
          "base_uri": "https://localhost:8080/",
          "height": 521
        },
        "id": "kWX-SKeSpvec",
        "outputId": "56829565-9956-4483-bd79-9821901cdea6"
      },
      "execution_count": null,
      "outputs": [
        {
          "output_type": "display_data",
          "data": {
            "text/plain": [
              "<Figure size 800x600 with 1 Axes>"
            ],
            "image/png": "[encoded data removed]"
          },
          "metadata": {}
        }
      ]
    },
    {
      "cell_type": "code",
      "source": [
        "# Create a scatter plot\n",
        "plt.figure(figsize=(10, 6))\n",
        "sns.scatterplot(x='Price', y='Rate', data=df, alpha=0.5)\n",
        "\n",
        "# Set plot labels and title\n",
        "plt.xlabel('Price')\n",
        "plt.ylabel('Rating')\n",
        "plt.title('Ratings vs. Prices')\n",
        "\n",
        "# Display the plot\n",
        "plt.show()"
      ],
      "metadata": {
        "colab": {
          "base_uri": "https://localhost:8080/",
          "height": 564
        },
        "id": "fvpEynxPp3DG",
        "outputId": "e12def26-e584-4328-cdea-147a7a169a4e"
      },
      "execution_count": null,
      "outputs": [
        {
          "output_type": "display_data",
          "data": {
            "text/plain": [
              "<Figure size 1000x600 with 1 Axes>"
            ],
            "image/png": "[encoded data removed]"
          },
          "metadata": {}
        }
      ]
    },
    {
      "cell_type": "code",
      "source": [
        "# Convert the 'Price' column to numeric (if not already)\n",
        "df['Price'] = pd.to_numeric(df['Price'], errors='coerce')\n",
        "\n",
        "# Find the highest price\n",
        "highest_price = df['Price'].max()\n",
        "\n",
        "# Find the lowest price\n",
        "lowest_price = df['Price'].min()\n",
        "\n",
        "# Print the results\n",
        "print(f'Highest Price: ₹{highest_price:.2f}')\n",
        "print(f'Lowest Price: ₹{lowest_price:.2f}')"
      ],
      "metadata": {
        "colab": {
          "base_uri": "https://localhost:8080/"
        },
        "id": "wGRe05LHp6XN",
        "outputId": "e8556f92-dbff-4626-e854-778d974cd4af"
      },
      "execution_count": null,
      "outputs": [
        {
          "output_type": "stream",
          "name": "stdout",
          "text": [
            "Highest Price: ₹52990.00\n",
            "Lowest Price: ₹195.00\n"
          ]
        }
      ]
    },
    {
      "cell_type": "code",
      "source": [
        "."
      ],
      "metadata": {
        "id": "9TYQk6OYtRSQ"
      },
      "execution_count": null,
      "outputs": []
    },
    {
      "cell_type": "code",
      "source": [
        "."
      ],
      "metadata": {
        "id": "aFLMH1_9tReU"
      },
      "execution_count": null,
      "outputs": []
    },
    {
      "cell_type": "code",
      "source": [
        "."
      ],
      "metadata": {
        "id": "5UfUdZqdtRuP"
      },
      "execution_count": null,
      "outputs": []
    },
    {
      "cell_type": "code",
      "source": [
        "."
      ],
      "metadata": {
        "id": "5jsoHOidtS_T"
      },
      "execution_count": null,
      "outputs": []
    },
    {
      "cell_type": "code",
      "source": [
        "# Convert the 'Price' column to numeric (errors='coerce' will turn non-numeric values into NaN)\n",
        "df['Price'] = pd.to_numeric(df['Price'], errors='coerce')\n",
        "\n",
        "# Drop rows with NaN values in the 'Price' column\n",
        "df.dropna(subset=['Price'], inplace=True)\n",
        "\n",
        "# Define the number of intervals and the maximum price\n",
        "num_intervals = 24\n",
        "max_price = 60000\n",
        "\n",
        "# Generate price intervals and labels\n",
        "price_intervals = np.linspace(0, max_price, num_intervals + 1)\n",
        "price_labels = [f'{int(price_intervals[i]):,}-{int(price_intervals[i + 1]):,}' for i in range(num_intervals)]\n",
        "\n",
        "# Create the 'PriceInterval' column based on intervals and labels\n",
        "df['PriceInterval'] = pd.cut(df['Price'], bins=price_intervals, labels=price_labels, include_lowest=True)"
      ],
      "metadata": {
        "id": "CLaiOjzNp_Sw"
      },
      "execution_count": null,
      "outputs": []
    },
    {
      "cell_type": "code",
      "source": [
        "import matplotlib.pyplot as plt\n",
        "\n",
        "# Count the occurrences of products in each price interval\n",
        "price_interval_counts = df['PriceInterval'].value_counts().sort_index()\n",
        "\n",
        "# Create a bar plot\n",
        "plt.figure(figsize=(12, 6))\n",
        "bars = plt.bar(price_interval_counts.index, price_interval_counts.values, color='dodgerblue', alpha=0.7)\n",
        "\n",
        "# Add data labels on top of each bar\n",
        "for bar in bars:\n",
        "    height = bar.get_height()\n",
        "    plt.annotate(f'{height}',\n",
        "                 xy=(bar.get_x() + bar.get_width() / 2, height),\n",
        "                 xytext=(0, 3),  # 3 points vertical offset\n",
        "                 textcoords='offset points',\n",
        "                 ha='center', va='bottom')\n",
        "\n",
        "# Customize plot labels and title\n",
        "plt.xlabel('Price Interval')\n",
        "plt.ylabel('Number of Products')\n",
        "plt.title('Distribution of Products by Price Interval')\n",
        "\n",
        "# Adjust the bar width\n",
        "plt.xticks(rotation=45)\n",
        "plt.tight_layout()\n",
        "\n",
        "# Show the plot\n",
        "plt.show()"
      ],
      "metadata": {
        "colab": {
          "base_uri": "https://localhost:8080/",
          "height": 518
        },
        "id": "5Xq6zQoRqCpL",
        "outputId": "85fb7b8d-56c8-4e29-9a0c-47e8925417fe"
      },
      "execution_count": null,
      "outputs": [
        {
          "output_type": "display_data",
          "data": {
            "text/plain": [
              "<Figure size 1200x600 with 1 Axes>"
            ],
            "image/png": "[encoded data removed]"
          },
          "metadata": {}
        }
      ]
    },
    {
      "cell_type": "code",
      "source": [
        "."
      ],
      "metadata": {
        "id": "s_0PdMXTtDmv"
      },
      "execution_count": null,
      "outputs": []
    },
    {
      "cell_type": "code",
      "source": [
        "."
      ],
      "metadata": {
        "id": "s09B5gU_tzPX"
      },
      "execution_count": null,
      "outputs": []
    },
    {
      "cell_type": "code",
      "source": [
        "."
      ],
      "metadata": {
        "id": "u_zAK3actzc-"
      },
      "execution_count": null,
      "outputs": []
    },
    {
      "cell_type": "code",
      "source": [
        "."
      ],
      "metadata": {
        "id": "tWMr_ip3tzpT"
      },
      "execution_count": null,
      "outputs": []
    },
    {
      "cell_type": "code",
      "source": [
        "."
      ],
      "metadata": {
        "id": "1GYVfojYtz2H"
      },
      "execution_count": null,
      "outputs": []
    },
    {
      "cell_type": "code",
      "source": [
        "."
      ],
      "metadata": {
        "id": "mWfa0__ntEyM"
      },
      "execution_count": null,
      "outputs": []
    },
    {
      "cell_type": "code",
      "source": [
        "."
      ],
      "metadata": {
        "id": "HLR77jdrtE8E"
      },
      "execution_count": null,
      "outputs": []
    },
    {
      "cell_type": "code",
      "source": [
        "."
      ],
      "metadata": {
        "id": "CWxP0SWxtFG6"
      },
      "execution_count": null,
      "outputs": []
    },
    {
      "cell_type": "code",
      "source": [
        "df['Price'] = pd.to_numeric(df['Price'])\n",
        "\n",
        "# Ensure that 'Rate' is numeric as well (convert if needed)\n",
        "df['Rate'] = pd.to_numeric(df['Rate'])\n",
        "\n",
        "# Create a scatter plot of Rate vs. Price for the entire dataset\n",
        "plt.figure(figsize=(10, 6))\n",
        "plt.scatter(df['Price'], df['Rate'], alpha=0.5, color='b')\n",
        "plt.title('Scatter Plot of Ratings vs. Price for the Entire Dataset')\n",
        "plt.xlabel('Price')\n",
        "plt.ylabel('Ratings')\n",
        "plt.grid(True)\n",
        "plt.show()"
      ],
      "metadata": {
        "colab": {
          "base_uri": "https://localhost:8080/",
          "height": 564
        },
        "id": "R9LFWDyYqMAe",
        "outputId": "3914831e-feee-4573-ff46-06937618fc70"
      },
      "execution_count": null,
      "outputs": [
        {
          "output_type": "display_data",
          "data": {
            "text/plain": [
              "<Figure size 1000x600 with 1 Axes>"
            ],
            "image/png": "[encoded data removed]"
          },
          "metadata": {}
        }
      ]
    },
    {
      "cell_type": "code",
      "source": [
        "."
      ],
      "metadata": {
        "id": "fS81LuVTsuLl"
      },
      "execution_count": null,
      "outputs": []
    },
    {
      "cell_type": "code",
      "source": [
        "."
      ],
      "metadata": {
        "id": "gb1MEDmwto92"
      },
      "execution_count": null,
      "outputs": []
    },
    {
      "cell_type": "code",
      "source": [
        "."
      ],
      "metadata": {
        "id": "0g-PstLNtpLL"
      },
      "execution_count": null,
      "outputs": []
    },
    {
      "cell_type": "code",
      "source": [
        "."
      ],
      "metadata": {
        "id": "dmtjkVL8tpYh"
      },
      "execution_count": null,
      "outputs": []
    },
    {
      "cell_type": "code",
      "source": [
        "# Calculate correlation between 'Price' and 'Rate'\n",
        "correlation = df['Price'].corr(df['Rate'])\n",
        "\n",
        "# Print the correlation coefficient\n",
        "print(f\"Correlation between 'Price' and 'Rate': {correlation}\")"
      ],
      "metadata": {
        "colab": {
          "base_uri": "https://localhost:8080/"
        },
        "id": "xLGbwrHqqehj",
        "outputId": "590ee5bc-d390-4805-c2de-9609f073650a"
      },
      "execution_count": null,
      "outputs": [
        {
          "output_type": "stream",
          "name": "stdout",
          "text": [
            "Correlation between 'Price' and 'Rate': 0.10583276238403161\n"
          ]
        }
      ]
    },
    {
      "cell_type": "code",
      "source": [
        "# Create a 2D histogram (heatmap) for Ratings vs. Prices\n",
        "plt.figure(figsize=(10, 6))\n",
        "plt.hist2d(df['Price'], df['Rate'], bins=(50, 50), cmap='YlOrRd')\n",
        "plt.colorbar(label='Frequency')\n",
        "plt.xlabel('Price')\n",
        "plt.ylabel('Rating')\n",
        "plt.title('Heatmap: Ratings vs. Prices')\n",
        "plt.show()"
      ],
      "metadata": {
        "colab": {
          "base_uri": "https://localhost:8080/",
          "height": 564
        },
        "id": "hbYPJRixqbV8",
        "outputId": "5bd09ca6-9aa8-4f51-e0a2-80fd0638bb6f"
      },
      "execution_count": null,
      "outputs": [
        {
          "output_type": "display_data",
          "data": {
            "text/plain": [
              "<Figure size 1000x600 with 2 Axes>"
            ],
            "image/png": "[encoded data removed]"
          },
          "metadata": {}
        }
      ]
    },
    {
      "cell_type": "code",
      "source": [
        "."
      ],
      "metadata": {
        "id": "gZNIgyM8sK68"
      },
      "execution_count": null,
      "outputs": []
    },
    {
      "cell_type": "code",
      "source": [
        "."
      ],
      "metadata": {
        "id": "cQnLt205sM6I"
      },
      "execution_count": null,
      "outputs": []
    },
    {
      "cell_type": "code",
      "source": [
        "."
      ],
      "metadata": {
        "id": "pvYkQUJTsNHe"
      },
      "execution_count": null,
      "outputs": []
    },
    {
      "cell_type": "code",
      "source": [
        "."
      ],
      "metadata": {
        "id": "Rj9VuIJjsNOr"
      },
      "execution_count": null,
      "outputs": []
    }
  ]
}